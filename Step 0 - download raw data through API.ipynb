{
 "cells": [
  {
   "cell_type": "markdown",
   "metadata": {},
   "source": [
    "# Step 0 - download raw data using API \n",
    "\n",
    "This notebook downloads the raw data from the official source: https://infrabel.opendatasoft.com/explore/dataset/stiptheid-gegevens-maandelijksebestanden/information/. \n",
    "\n",
    "Set `save_dir` for folder to save data and `download_range` - the range of month-years over which to download data."
   ]
  },
  {
   "cell_type": "code",
   "execution_count": 1,
   "metadata": {},
   "outputs": [],
   "source": [
    "import numpy as np\n",
    "import sys\n",
    "import os\n",
    "from pathlib import Path\n",
    "from tqdm.notebook import tqdm\n",
    "from datetime import datetime, timedelta\n",
    "import time\n",
    "import requests  # Simple HTTP operations (GET and POST)\n",
    "import pandas as pd"
   ]
  },
  {
   "cell_type": "markdown",
   "metadata": {},
   "source": [
    "## Technical function"
   ]
  },
  {
   "cell_type": "code",
   "execution_count": 2,
   "metadata": {},
   "outputs": [],
   "source": [
    "from itertools import cycle\n",
    "# GET DATE STRINGS OF DATES FROM START MONTH-YEAR TILL END MONTH-YEAR\n",
    "def get_date_range(month_start, year_start, month_end, year_end):\n",
    "    month_range = list(range(1,13))\n",
    "    cycle_month_range = cycle(month_range)\n",
    "    while True:\n",
    "        current_month = next(cycle_month_range)\n",
    "        if current_month == month_start:\n",
    "            break\n",
    "    date_tuples = []\n",
    "    year = year_start\n",
    "    while True:\n",
    "        if current_month < 10:\n",
    "            date_tuples.append((\"0\"+str(current_month), str(year)))\n",
    "        else:\n",
    "            date_tuples.append((str(current_month), str(year)))\n",
    "        if year == year_end and current_month == month_end:\n",
    "            break\n",
    "        current_month = next(cycle_month_range)\n",
    "        if current_month == 1:\n",
    "            year += 1\n",
    "    return date_tuples"
   ]
  },
  {
   "cell_type": "markdown",
   "metadata": {},
   "source": [
    "## Define download range and output dir"
   ]
  },
  {
   "cell_type": "code",
   "execution_count": 3,
   "metadata": {},
   "outputs": [
    {
     "data": {
      "text/plain": [
       "[('04', '2019')]"
      ]
     },
     "execution_count": 3,
     "metadata": {},
     "output_type": "execute_result"
    }
   ],
   "source": [
    "save_dir = Path(\"./infrabel_raw_data/\")\n",
    "download_range = get_date_range(4, 2019, 4, 2019)\n",
    "download_range"
   ]
  },
  {
   "cell_type": "markdown",
   "metadata": {},
   "source": [
    "## Main download"
   ]
  },
  {
   "cell_type": "code",
   "execution_count": 4,
   "metadata": {},
   "outputs": [
    {
     "data": {
      "application/vnd.jupyter.widget-view+json": {
       "model_id": "d5fdcb6be538420391ceb560a8653b91",
       "version_major": 2,
       "version_minor": 0
      },
      "text/plain": [
       "Downloading from predefined range of month-years:   0%|          | 0/1 [00:00<?, ?it/s]"
      ]
     },
     "metadata": {},
     "output_type": "display_data"
    },
    {
     "name": "stdout",
     "output_type": "stream",
     "text": [
      "Downloading Data_raw_punctuality_201904.csv\n",
      "[==================================================]\n",
      "\n"
     ]
    }
   ],
   "source": [
    "for month, year in tqdm(download_range, desc = \"Downloading from predefined range of month-years\"):\n",
    "    # FILE FORMAT\n",
    "    file = \"Data_raw_punctuality_{}{}.csv\".format(year, month)\n",
    "    # FILE OUTPUT\n",
    "    os.makedirs(save_dir, exist_ok=True)\n",
    "    save_file = os.path.join(save_dir, file)\n",
    "    \n",
    "    # MAIN DOWNLOAD\n",
    "    base_url = \"https://fr.ftp.opendatasoft.com/infrabel/PunctualityHistory/\"\n",
    "    file_url = base_url + file\n",
    "    \n",
    "    with open(save_file, \"wb\") as f:\n",
    "        print(\"Downloading {}\".format(file))\n",
    "        r = requests.get(file_url, stream=True)\n",
    "        total_length = r.headers.get('content-length')\n",
    "\n",
    "        if total_length is None: # no content length header\n",
    "            f.write(r.content)\n",
    "        else:\n",
    "            dl = 0\n",
    "            total_length = int(total_length)\n",
    "            for data in r.iter_content(chunk_size=4096):\n",
    "                dl += len(data)\n",
    "                f.write(data)\n",
    "                done = int(50 * dl / total_length)\n",
    "                sys.stdout.write(\"\\r[%s%s]\" % ('=' * done, ' ' * (50-done)) )    \n",
    "                sys.stdout.flush()\n",
    "    print(\"\\n\")"
   ]
  },
  {
   "cell_type": "code",
   "execution_count": null,
   "metadata": {},
   "outputs": [],
   "source": []
  }
 ],
 "metadata": {
  "kernelspec": {
   "display_name": "Python 3 (ipykernel)",
   "language": "python",
   "name": "python3"
  },
  "language_info": {
   "codemirror_mode": {
    "name": "ipython",
    "version": 3
   },
   "file_extension": ".py",
   "mimetype": "text/x-python",
   "name": "python",
   "nbconvert_exporter": "python",
   "pygments_lexer": "ipython3",
   "version": "3.7.15"
  }
 },
 "nbformat": 4,
 "nbformat_minor": 4
}
